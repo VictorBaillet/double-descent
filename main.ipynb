{
 "cells": [
  {
   "cell_type": "code",
   "execution_count": null,
   "id": "f79d5a54-82b1-45ab-840f-574fa06ccebb",
   "metadata": {},
   "outputs": [],
   "source": [
    "import torch\n",
    "import torchvision\n",
    "import torchvision.transforms as transforms\n",
    "import torch.nn as nn\n",
    "import torch.optim as optim\n",
    "import numpy as np\n",
    "import gc\n",
    "import random\n",
    "import matplotlib.pyplot as plt\n",
    "from sklearn.model_selection import train_test_split\n",
    "from IPython.display import clear_output\n",
    "\n",
    "from utils.models import TwoLayersNN, train\n",
    "from utils.utils import add_noise_to_labels, preprocess_MNIST"
   ]
  },
  {
   "cell_type": "markdown",
   "id": "6572af3c-c604-4d18-b6c9-ae8dc9957fa2",
   "metadata": {},
   "source": [
    "### Config"
   ]
  },
  {
   "cell_type": "code",
   "execution_count": 4,
   "id": "88a32d19-5d1a-447f-8280-95a5cdd960b5",
   "metadata": {},
   "outputs": [
    {
     "name": "stdout",
     "output_type": "stream",
     "text": [
      "CUDA disponible : True\n",
      "Nombre de GPU disponibles : 1\n",
      "GPU 0: NVIDIA GeForce RTX 3090\n"
     ]
    }
   ],
   "source": [
    "cuda_available = torch.cuda.is_available()\n",
    "\n",
    "print(f\"CUDA disponible : {cuda_available}\")\n",
    "\n",
    "# Affiche également le nombre de GPU disponibles et leur nom si CUDA est disponible\n",
    "if cuda_available:\n",
    "    print(f\"Nombre de GPU disponibles : {torch.cuda.device_count()}\")\n",
    "    for i in range(torch.cuda.device_count()):\n",
    "        print(f\"GPU {i}: {torch.cuda.get_device_name(i)}\")\n",
    "else:\n",
    "    print(\"Aucun GPU n'est disponible. Entraînement sur CPU.\")"
   ]
  },
  {
   "cell_type": "code",
   "execution_count": 5,
   "id": "e22261e9-333f-4aa2-8a8e-7e4e738a92c0",
   "metadata": {},
   "outputs": [
    {
     "name": "stdout",
     "output_type": "stream",
     "text": [
      "Using device: cuda\n"
     ]
    }
   ],
   "source": [
    "device = torch.device('cuda' if torch.cuda.is_available() else 'cpu')\n",
    "print('Using device:', device)"
   ]
  },
  {
   "cell_type": "markdown",
   "id": "8420eb6f-12b3-4d0b-9ce1-ec86956917e0",
   "metadata": {},
   "source": [
    "### Data"
   ]
  },
  {
   "cell_type": "code",
   "execution_count": 21,
   "id": "aef7df09-68cf-43eb-a38f-a51c6ba5c426",
   "metadata": {},
   "outputs": [],
   "source": [
    "train_loader, test_loader = preprocess_MNIST(n_train=5000, noise_level=0.2, zero_vs_all=False, downsample_size=(14, 14))"
   ]
  },
  {
   "cell_type": "markdown",
   "id": "1a96fb80-bd62-48ca-828b-c161944c0a79",
   "metadata": {},
   "source": [
    "### Model"
   ]
  },
  {
   "cell_type": "markdown",
   "id": "34c98c25-0fc4-45cc-8431-7e7138888402",
   "metadata": {},
   "source": [
    "### Double descent experiments"
   ]
  },
  {
   "cell_type": "code",
   "execution_count": null,
   "id": "44001067-6286-47a8-9444-1d5bc2113616",
   "metadata": {
    "scrolled": true
   },
   "outputs": [],
   "source": [
    "x_width = [2, 4, 6, 8, 10, 12, 14, 16, 18, 20, 22, 24, 26, 28, 30, 32, 34, 36, 38,\n",
    "            40, 41, 42, 43, 44, 45, 46, 47, 48, 49, 50, 51, 52, 53, 54, 55, 56, 57, 58, 59,\n",
    "            60, 65, 70, 75, 80, 85, 90, 95, 100, 105, 110, 115, 120, 125, 130, 135, 140, 145, 150]\n",
    "\n",
    "x_loss = []\n",
    "x_complexity = np.zeros(len(x_width))\n",
    "train_loader, test_loader = preprocess_MNIST(n_train=4000, noise_level=0.2, zero_vs_all=False)\n",
    "\n",
    "for i, width in enumerate(x_width):\n",
    "    net = Net(width=width).cuda()\n",
    "    print(\"Width :\", width)\n",
    "    trainable_params = sum(p.numel() for p in net.parameters() if p.requires_grad)\n",
    "    print(f\"Number of trainable parameters: {trainable_params}\")\n",
    "    \n",
    "    x_loss.append(train(net, train_loader, test_loader))\n",
    "    complexity = 0\n",
    "    k = 0\n",
    "    for data in test_loader:\n",
    "        inputs, labels = data\n",
    "        if torch.cuda.is_available():\n",
    "            inputs, labels = inputs.cuda(), labels.cuda().float()\n",
    "        for input in inputs:\n",
    "            complexity += compute_complexity(net, input)\n",
    "            k += 1\n",
    "            \n",
    "        if k > 1000:\n",
    "            break\n",
    "\n",
    "            \n",
    "    x_complexity[i] += complexity / k\n",
    "    np.save(\"x_loss_0.2.npy\", np.array(x_loss))\n",
    "    np.save(\"x_complexity_0.2.npy\", np.array(x_complexity))\n",
    "\n",
    "x_loss = []\n",
    "x_complexity = np.zeros(len(x_width))\n",
    "train_loader, test_loader = preprocess_MNIST(n_train=4000, noise_level=0, zero_vs_all=False)\n",
    "\n",
    "for i, width in enumerate(x_width):\n",
    "    net = Net(width=width).cuda()\n",
    "    print(\"Width :\", width)\n",
    "    trainable_params = sum(p.numel() for p in net.parameters() if p.requires_grad)\n",
    "    print(f\"Number of trainable parameters: {trainable_params}\")\n",
    "    \n",
    "    x_loss.append(train(net, train_loader, test_loader))\n",
    "    complexity = 0\n",
    "    k = 0\n",
    "    for data in test_loader:\n",
    "        inputs, labels = data\n",
    "        if torch.cuda.is_available():\n",
    "            inputs, labels = inputs.cuda(), labels.cuda().float()\n",
    "        for input in inputs:\n",
    "            complexity += compute_complexity(net, input)\n",
    "            k += 1\n",
    "            \n",
    "        if k > 1000:\n",
    "            break\n",
    "\n",
    "            \n",
    "    x_complexity[i] += complexity / k\n",
    "    np.save(\"x_loss_0.npy\", np.array(x_loss))\n",
    "    np.save(\"x_complexity_0.npy\", np.array(x_complexity))\n",
    "\n",
    "x_loss = []\n",
    "x_complexity = np.zeros(len(x_width))\n",
    "train_loader, test_loader = preprocess_MNIST(n_train=4000, noise_level=0.1, zero_vs_all=False)\n",
    "\n",
    "for i, width in enumerate(x_width):\n",
    "    net = Net(width=width).cuda()\n",
    "    print(\"Width :\", width)\n",
    "    trainable_params = sum(p.numel() for p in net.parameters() if p.requires_grad)\n",
    "    print(f\"Number of trainable parameters: {trainable_params}\")\n",
    "    \n",
    "    x_loss.append(train(net, train_loader, test_loader))\n",
    "    complexity = 0\n",
    "    k = 0\n",
    "    for data in test_loader:\n",
    "        inputs, labels = data\n",
    "        if torch.cuda.is_available():\n",
    "            inputs, labels = inputs.cuda(), labels.cuda().float()\n",
    "        for input in inputs:\n",
    "            complexity += compute_complexity(net, input)\n",
    "            k += 1\n",
    "            \n",
    "        if k > 1000:\n",
    "            break\n",
    "\n",
    "            \n",
    "    x_complexity[i] += complexity / k\n",
    "    np.save(\"x_loss_0.1.npy\", np.array(x_loss))\n",
    "    np.save(\"x_complexity_0.1.npy\", np.array(x_complexity))\n",
    "    "
   ]
  },
  {
   "cell_type": "markdown",
   "id": "f9842c73-7bff-415c-8ab2-fdb4ad1da64d",
   "metadata": {},
   "source": [
    "### Min-norm solution in deep model experiments"
   ]
  },
  {
   "cell_type": "code",
   "execution_count": 29,
   "id": "2b5a18a7-e83c-4a35-91a6-50c077b7464a",
   "metadata": {},
   "outputs": [
    {
     "name": "stdout",
     "output_type": "stream",
     "text": [
      "Distance between the weights: 96.60978698730469\n"
     ]
    }
   ],
   "source": [
    "# Step 1: Extract Features from the First Layer\n",
    "net.eval()\n",
    "with torch.no_grad():  # Disable gradient calculation\n",
    "    features = []\n",
    "    targets = []\n",
    "    \n",
    "    for inputs, labels in train_loader:  # Iterate over each batch\n",
    "        if torch.cuda.is_available():\n",
    "            inputs, labels = inputs.cuda(), labels.cuda().float()  # Move to GPU if available\n",
    "        \n",
    "        # Flatten each image in the batch and process through the first layer\n",
    "        for input in inputs:\n",
    "            input_flat = input.flatten()\n",
    "            layer_output = net.fc1(input_flat).tolist()\n",
    "            features.append(layer_output)\n",
    "        \n",
    "        # Append labels to the targets list\n",
    "        targets.extend(labels.cpu().numpy().tolist())\n",
    "        \n",
    "# Step 2: Get Weights of the Second Layer\n",
    "weights_layer2 = net.fc2.weight.data\n",
    "# Step 3: Calculate Min-Norm Solution for Linear Regression\n",
    "A_pinv = torch.pinverse(torch.tensor(features))\n",
    "min_norm_solution = torch.mm(A_pinv, torch.tensor(targets).unsqueeze(1)).to(device=device)\n",
    "\n",
    "# Step 4: Compare the Weights\n",
    "distance = torch.norm(min_norm_solution - weights_layer2)\n",
    "print(f\"Distance between the weights: {distance.item()}\")"
   ]
  },
  {
   "cell_type": "markdown",
   "id": "982163c6-c833-4b24-9f79-9db456f405fb",
   "metadata": {},
   "source": [
    "### NTK experiments"
   ]
  },
  {
   "cell_type": "code",
   "execution_count": 10,
   "id": "5083ec4b-b215-4f4e-b692-cfe85fea91ca",
   "metadata": {},
   "outputs": [],
   "source": [
    "for data in test_loader:\n",
    "    inputs, labels = data\n",
    "    if torch.cuda.is_available():\n",
    "        inputs, labels = inputs.cuda(), labels.cuda().float()\n",
    "    break\n",
    "y = inputs[0].clone().detach().requires_grad_(True)"
   ]
  },
  {
   "cell_type": "code",
   "execution_count": 13,
   "id": "1099e232-3d80-4cc2-92a9-472f2bc12679",
   "metadata": {},
   "outputs": [],
   "source": [
    "def compute_feature_matrix(net, train_loader, y):\n",
    "    net.eval()  # Evaluation mode\n",
    "    device = torch.device(\"cuda\" if torch.cuda.is_available() else \"cpu\")\n",
    "    net.to(device)\n",
    "\n",
    "    gradients = []\n",
    "    for batch in train_loader:\n",
    "        x, _ = batch\n",
    "        for single_x in x:  # Iterate over each example in the batch\n",
    "            single_x = single_x.unsqueeze(0).to(device).requires_grad_(True)\n",
    "            \n",
    "            output_x = net(single_x)\n",
    "            grad_x = torch.autograd.grad(outputs=output_x, \n",
    "                                         inputs=net.parameters(), \n",
    "                                         grad_outputs=torch.ones_like(output_x),\n",
    "                                         retain_graph=True, \n",
    "                                         create_graph=True)\n",
    "            # Flatten and concatenate gradients for each parameter\n",
    "            grad_x_vector = torch.cat([g.contiguous().view(-1) for g in grad_x])\n",
    "            gradients.append(grad_x_vector)\n",
    "\n",
    "    # Process y in the same way\n",
    "    y = y.to(device).requires_grad_(True)\n",
    "    output_y = net(y)\n",
    "    grad_y = torch.autograd.grad(outputs=output_y, \n",
    "                                 inputs=net.parameters(), \n",
    "                                 grad_outputs=torch.ones_like(output_y),\n",
    "                                 retain_graph=True, \n",
    "                                 create_graph=True)\n",
    "    grad_y_vector = torch.cat([g.contiguous().view(-1) for g in grad_y])\n",
    "\n",
    "    # Stack all gradients to form the feature matrices\n",
    "    phi = torch.stack(gradients)\n",
    "    return phi, grad_y_vector"
   ]
  },
  {
   "cell_type": "code",
   "execution_count": 14,
   "id": "94ba1d4c-5c59-48bc-89d0-d1fdf21e36bd",
   "metadata": {},
   "outputs": [],
   "source": [
    "def compute_matrix(phi, p):\n",
    "    phi_t = phi.T\n",
    "    if p > 4000:\n",
    "        phi_phi_t_inv = torch.inverse(torch.mm(phi, phi_t))\n",
    "        del phi\n",
    "        gc.collect()\n",
    "        result = torch.mm(phi_t, phi_phi_t_inv)\n",
    "    else:\n",
    "        phi_t_phi_inv = torch.inverse(torch.mm(phi_t, phi))\n",
    "        del phi\n",
    "        gc.collect()\n",
    "        result = torch.mm(phi_phi_t_inv, phi_t)\n",
    "    return result\n",
    "\n",
    "def compute_matrix_pseudo_inverse(phi, p):\n",
    "    phi_phi_t_pinv = torch.pinverse(phi)\n",
    "    del phi\n",
    "    gc.collect()\n",
    "    return phi_phi_t_pinv"
   ]
  },
  {
   "cell_type": "code",
   "execution_count": 26,
   "id": "2eeb0a00-4ca8-45b1-8682-b15df70d481e",
   "metadata": {},
   "outputs": [],
   "source": [
    "net = Net(width=6).cuda()\n",
    "p = sum(parameter.numel() for parameter in net.parameters() if parameter.requires_grad)"
   ]
  },
  {
   "cell_type": "code",
   "execution_count": null,
   "id": "4040b523-94d1-4273-aefe-9cf553178eaa",
   "metadata": {
    "scrolled": true
   },
   "outputs": [
    {
     "name": "stdout",
     "output_type": "stream",
     "text": [
      "1\n",
      "198\n",
      "2\n",
      "396\n",
      "3\n",
      "594\n",
      "4\n",
      "792\n",
      "5\n",
      "990\n",
      "6\n",
      "1188\n",
      "7\n",
      "1386\n",
      "8\n",
      "1584\n",
      "9\n",
      "1782\n",
      "10\n",
      "1980\n",
      "11\n",
      "2178\n",
      "12\n",
      "2376\n",
      "13\n",
      "2574\n",
      "14\n",
      "2772\n",
      "15\n",
      "2970\n",
      "16\n",
      "3168\n",
      "17\n",
      "3366\n"
     ]
    }
   ],
   "source": [
    "x_width = [1, 2, 3, 4, 5, 6, 7, 8, 9, 10, 11, 12, 13, 14, 15, 16, 17, 18, 19, 20, 22, 24, 26, 28, 30, 35, 40, 50, 54, 56, 58, 60, 62, 64, 68]\n",
    "\n",
    "\n",
    "x_complexity = np.zeros(len(x_width))\n",
    "\n",
    "for i in range(1):\n",
    "    for i, width in enumerate(x_width):\n",
    "        print(width)\n",
    "        net = Net(width=width, input_size=14*14).cuda()\n",
    "        p = sum(parameter.numel() for parameter in net.parameters() if parameter.requires_grad)\n",
    "        print(p)\n",
    "        phi, phi_y = compute_feature_matrix(net, train_loader, y)\n",
    "        net = None\n",
    "        inverse = compute_matrix_pseudo_inverse(phi, p)\n",
    "        s = torch.mm(phi_y.unsqueeze(-1).T, inverse)\n",
    "        res = 0\n",
    "        for s_i in s[0]:\n",
    "            res += s_i**2\n",
    "        phi = None\n",
    "        phi_y = None\n",
    "        inverse = None\n",
    "        s = None\n",
    "        torch.cuda.empty_cache()\n",
    "        gc.collect()\n",
    "        x_complexity[i] += float(res.cpu())\n",
    "\n",
    "x_complexity /= 1"
   ]
  },
  {
   "cell_type": "code",
   "execution_count": 19,
   "id": "24e4296c-3859-4cde-8660-c8d29e7c625f",
   "metadata": {},
   "outputs": [],
   "source": [
    "x_complexity[10:] /= 2"
   ]
  },
  {
   "cell_type": "code",
   "execution_count": 20,
   "id": "eb58f29c-8eaf-4128-a33b-8b21d8ca6d2f",
   "metadata": {},
   "outputs": [
    {
     "data": {
      "text/plain": [
       "[<matplotlib.lines.Line2D at 0x7f0ec66b6c40>]"
      ]
     },
     "execution_count": 20,
     "metadata": {},
     "output_type": "execute_result"
    },
    {
     "data": {
      "image/png": "[encoded data removed]",
      "text/plain": [
       "<Figure size 640x480 with 1 Axes>"
      ]
     },
     "metadata": {},
     "output_type": "display_data"
    }
   ],
   "source": [
    "plt.plot(x_width[:len(x_complexity)], np.log(x_complexity[:]))"
   ]
  },
  {
   "cell_type": "code",
   "execution_count": 81,
   "id": "b2ba9eba-1e49-4e34-a8f5-81170d933c25",
   "metadata": {},
   "outputs": [
    {
     "name": "stdout",
     "output_type": "stream",
     "text": [
      "Epoch 10/10 - Loss: 0.164\n",
      "Test Loss: 0.058\n",
      "Finished Training\n",
      "Width : 80\n"
     ]
    }
   ],
   "source": [
    "x_width = [2, 4, 6, 8, 10, 12, 14, 16, 18, 20, 22, 24, 26, 28, 30, 32, 34, 36, 38,\n",
    "            40, 41, 42, 43, 44, 45, 46, 47, 48, 49, 50, 51, 52, 53, 54, 55, 56, 57, 58, 59,\n",
    "            60, 65, 70, 75, 80,]# 85, 90, 95, 100, 105, 110, 115, 120, 125, 130, 135, 140, 145, 150, 155,\n",
    "            #160, 165, 170, 175, 180, 185, 190, 200, 210, 220, 230, 240, 250, 260, 270, 280, 290, 300, 350,\n",
    "            #400, 450, 500, 550, 600, 650, 700, 750, 800]\n",
    "\n",
    "x_complexity = np.zeros(len(x_width))\n",
    "for i in range(1):\n",
    "    print(i)\n",
    "    for j in range(len(x_width)):\n",
    "        net = Net(width=x_width[j]).cuda()\n",
    "        train(net, train_loader, test_loader, epochs=10)\n",
    "        print(\"Width :\", x_width[j])\n",
    "        complexity = 0\n",
    "        k = 0\n",
    "        for data in test_loader:\n",
    "            inputs, labels = data\n",
    "            if torch.cuda.is_available():\n",
    "                inputs, labels = inputs.cuda(), labels.cuda().float()\n",
    "            for input in inputs:\n",
    "                complexity += compute_complexity(net, input)\n",
    "                k += 1\n",
    "                if k > 20:\n",
    "                    break\n",
    "            break\n",
    "\n",
    "            \n",
    "        x_complexity[j] += complexity / k\n",
    "\n",
    "x_complexity = x_complexity / 1"
   ]
  },
  {
   "cell_type": "code",
   "execution_count": 82,
   "id": "63a74696-2200-419a-8ddd-b4dca45d653a",
   "metadata": {},
   "outputs": [
    {
     "data": {
      "text/plain": [
       "[<matplotlib.lines.Line2D at 0x17b88d4f3b0>]"
      ]
     },
     "execution_count": 82,
     "metadata": {},
     "output_type": "execute_result"
    },
    {
     "data": {
      "image/png": "[encoded data removed]",
      "text/plain": [
       "<Figure size 640x480 with 1 Axes>"
      ]
     },
     "metadata": {},
     "output_type": "display_data"
    }
   ],
   "source": [
    "plt.plot(x_width, x_complexity)"
   ]
  },
  {
   "cell_type": "code",
   "execution_count": null,
   "id": "fcc958eb-978e-4c39-81d9-f6b7c4cbcdb3",
   "metadata": {},
   "outputs": [],
   "source": []
  }
 ],
 "metadata": {
  "kernelspec": {
   "display_name": "Python 3 (ipykernel)",
   "language": "python",
   "name": "python3"
  },
  "language_info": {
   "codemirror_mode": {
    "name": "ipython",
    "version": 3
   },
   "file_extension": ".py",
   "mimetype": "text/x-python",
   "name": "python",
   "nbconvert_exporter": "python",
   "pygments_lexer": "ipython3",
   "version": "3.9.18"
  }
 },
 "nbformat": 4,
 "nbformat_minor": 5
}
